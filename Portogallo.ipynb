{
  "nbformat": 4,
  "nbformat_minor": 0,
  "metadata": {
    "colab": {
      "provenance": [],
      "authorship_tag": "ABX9TyOmDLYGcLznG7P96orQDkJw",
      "include_colab_link": true
    },
    "kernelspec": {
      "name": "python3",
      "display_name": "Python 3"
    },
    "language_info": {
      "name": "python"
    }
  },
  "cells": [
    {
      "cell_type": "markdown",
      "metadata": {
        "id": "view-in-github",
        "colab_type": "text"
      },
      "source": [
        "<a href=\"https://colab.research.google.com/github/FelixPotato2/Viaggi/blob/main/Portogallo.ipynb\" target=\"_parent\"><img src=\"https://colab.research.google.com/assets/colab-badge.svg\" alt=\"Open In Colab\"/></a>"
      ]
    },
    {
      "cell_type": "code",
      "execution_count": 2,
      "metadata": {
        "id": "Ra3vypdAr4Bp"
      },
      "outputs": [],
      "source": [
        "import pandas as pd"
      ]
    },
    {
      "cell_type": "code",
      "source": [
        "Lisbona = pd.read_excel('Portogallo.xlsx', 'Lisbona', header = 2)\n",
        "Coimbra = pd.read_excel('Portogallo.xlsx', 'Coimbra', header = 2)\n",
        "Porto = pd.read_excel('Portogallo.xlsx', 'Porto', header = 2)\n",
        "Viana_do_Castelo = pd.read_excel('Portogallo.xlsx', 'Viana Do Castelo', header = 2)\n",
        "Caminha = pd.read_excel('Portogallo.xlsx', 'Caminha', header = 2)\n",
        "O_Serrallo = pd.read_excel('Portogallo.xlsx', 'O Serrallo', header = 2)\n",
        "Baiona = pd.read_excel('Portogallo.xlsx', 'Baiona', header = 2)\n",
        "Isole_Cies = pd.read_excel('Portogallo.xlsx', 'Isole Cies', header = 2)\n",
        "Vigo = pd.read_excel('Portogallo.xlsx', 'Vigo', header = 2)"
      ],
      "metadata": {
        "id": "zGzq0SMqr8AP"
      },
      "execution_count": 240,
      "outputs": []
    },
    {
      "cell_type": "code",
      "source": [
        "itinerary = [Lisbona, Coimbra, Porto, Viana_do_Castelo, Caminha, O_Serrallo, Baiona, Isole_Cies, Vigo]"
      ],
      "metadata": {
        "id": "aoz8K8FCM7kn"
      },
      "execution_count": 241,
      "outputs": []
    },
    {
      "cell_type": "code",
      "source": [
        "nomi = ['Lisbona', 'Coimbra', 'Porto', 'Viana_do_Castelo', 'Caminha', 'O_Serrallo', 'Baiona', 'Isole_Cies', 'Vigo']"
      ],
      "metadata": {
        "id": "6ZoMBxKTN2Ab"
      },
      "execution_count": 242,
      "outputs": []
    },
    {
      "cell_type": "code",
      "source": [
        "#Add new city column\n",
        "for i in range(len(itinerary)):\n",
        "  itinerary[i]['Città'] = nomi[i]"
      ],
      "metadata": {
        "id": "ILwGKMMJyMyj"
      },
      "execution_count": 243,
      "outputs": []
    },
    {
      "cell_type": "code",
      "source": [
        "def clean_df(df, colonne_eliminate):\n",
        "  df.drop(colonne_eliminate, axis = 1, inplace = True)\n",
        "  return df"
      ],
      "metadata": {
        "id": "Umq6lvFwtrnz"
      },
      "execution_count": 244,
      "outputs": []
    },
    {
      "cell_type": "code",
      "source": [
        "colonne_eliminate = ['Check-In', 'Check-out', 'Indirizzo', 'Sito Web', 'Colazione', 'Foto', 'Tasse', 'Info']"
      ],
      "metadata": {
        "id": "rHaUw7LB8aGu"
      },
      "execution_count": 245,
      "outputs": []
    },
    {
      "cell_type": "code",
      "source": [
        "dct = {}\n",
        "for city in range(len(itinerary)):\n",
        "  dct[nomi[city]] = clean_df(itinerary[city], colonne_eliminate)"
      ],
      "metadata": {
        "id": "YoPHWB6jMfoT"
      },
      "execution_count": 246,
      "outputs": []
    },
    {
      "cell_type": "markdown",
      "source": [
        "## Class definition"
      ],
      "metadata": {
        "id": "vEaAoNoSK8ma"
      }
    },
    {
      "cell_type": "code",
      "source": [
        "class city():\n",
        "  def __init__(self, hotel ,city, price, nights):\n",
        "    self.hotel = hotel\n",
        "    self.city = city\n",
        "    self.price = price\n",
        "    self.nights = nights\n",
        "\n",
        "  def n_hotel(self):\n",
        "    return len(self.hotel)\n",
        "\n",
        "  def sum_prices_two_cities(self, other):\n",
        "    combinazioni = {}\n",
        "    for sums in range(len(self.price) * len(other.price)):\n",
        "      for col_self in range(len(self.price)):\n",
        "        for col_other in range(len(other.price)):\n",
        "          # print(f'Printing the name of the city: ...\\n {self.city[col_self]},{other.city[col_other]}')\n",
        "          combinazioni[f'{self.city[col_self]}: {self.hotel[col_self]}, {other.city[col_other]}: {other.hotel[col_other]}'] = [round(self.price[col_self] + other.price[col_other]), self.nights[col_self] + other.nights[col_other], f'{self.city[col_self]} - {other.city[col_other]}']\n",
        "    df = pd.DataFrame(combinazioni).transpose().reset_index()\n",
        "    df.columns = ['Hotel','Prezzo a Persona', 'Notti', 'Città']\n",
        "    middle_city = city(hotel = df['Hotel'], city = df['Città'], price = df['Prezzo a Persona'], nights = df['Notti'])\n",
        "    return middle_city"
      ],
      "metadata": {
        "id": "PRqbn6Ahds95"
      },
      "execution_count": 247,
      "outputs": []
    },
    {
      "cell_type": "code",
      "source": [
        "Lisbona = city(hotel = dct['Lisbona']['Nome'], city = dct['Lisbona']['Città'], price = dct['Lisbona']['Prezzo a Persona'], nights = dct['Lisbona']['N° Notti'])\n",
        "Coimbra = city(hotel = dct['Coimbra']['Nome'], city = dct['Coimbra']['Città'], price = dct['Coimbra']['Prezzo a Persona'], nights = dct['Coimbra']['N° Notti'])\n",
        "Porto = city(hotel = dct['Porto']['Nome'], city = dct['Porto']['Città'], price = dct['Porto']['Prezzo a Persona'], nights = dct['Porto']['N° Notti'])\n",
        "VianaDoCastelo = city(hotel = dct['Viana_do_Castelo']['Nome'], city = dct['Viana_do_Castelo']['Città'], price = dct['Viana_do_Castelo']['Prezzo a Persona'], nights = dct['Viana_do_Castelo']['N° Notti'])\n",
        "Caminha = city(hotel = dct['Caminha']['Nome'], city = dct['Caminha']['Città'], price = dct['Caminha']['Prezzo a Persona'], nights = dct['Caminha']['N° Notti'])\n",
        "OSerrallo = city(hotel = dct['O_Serrallo']['Nome'], city = dct['O_Serrallo']['Città'], price = dct['O_Serrallo']['Prezzo a Persona'], nights = dct['O_Serrallo']['N° Notti'])\n",
        "Baiona = city(hotel = dct['Baiona']['Nome'], city = dct['Baiona']['Città'], price = dct['Baiona']['Prezzo a Persona'], nights = dct['Baiona']['N° Notti'])\n",
        "IsoleCies = city(hotel = dct['Isole_Cies']['Nome'], city = dct['Isole_Cies']['Città'], price = dct['Isole_Cies']['Prezzo a Persona'], nights = dct['Isole_Cies']['N° Notti'])\n",
        "Vigo = city(hotel = dct['Vigo']['Nome'], city = dct['Vigo']['Città'], price = dct['Vigo']['Prezzo a Persona'], nights = dct['Vigo']['N° Notti'])"
      ],
      "metadata": {
        "id": "eosHhOl0jl_W"
      },
      "execution_count": 248,
      "outputs": []
    },
    {
      "cell_type": "code",
      "source": [
        "# destinazioni = [Lisbona, Coimbra, Porto, VianaDoCastelo, Caminha, OSerrallo, Baiona, IsoleCies, Vigo]\n",
        "destinazioni = [Lisbona, Coimbra, Porto, VianaDoCastelo]\n",
        "m0 = destinazioni[0].sum_prices_two_cities(destinazioni[1])\n",
        "m = [m0]"
      ],
      "metadata": {
        "id": "3yg_JO8Kwil8"
      },
      "execution_count": 251,
      "outputs": []
    },
    {
      "cell_type": "code",
      "source": [
        "for i in range(len(destinazioni) - 2):\n",
        "  m.append(m[i].sum_prices_two_cities(destinazioni[i+2]))"
      ],
      "metadata": {
        "id": "Ve7pN2pQwd6f"
      },
      "execution_count": 252,
      "outputs": []
    },
    {
      "cell_type": "code",
      "source": [
        "final_df = pd.DataFrame([m[-1].hotel, m[-1].price, m[-1].city, m[-1].nights], ['Hotel', 'Prezzo', 'Città', 'Notti']).transpose()"
      ],
      "metadata": {
        "id": "LG-SeS_rePb-"
      },
      "execution_count": 261,
      "outputs": []
    },
    {
      "cell_type": "code",
      "source": [],
      "metadata": {
        "id": "ivJmnOni9ORX"
      },
      "execution_count": null,
      "outputs": []
    }
  ]
}